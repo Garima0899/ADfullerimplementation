{
 "cells": [
  {
   "cell_type": "code",
   "execution_count": 1,
   "id": "e9e203ae-497e-4682-a768-628c1ce42683",
   "metadata": {},
   "outputs": [],
   "source": [
    "import pandas as pd, numpy as np\n",
    "import matplotlib.pyplot as plt ,seaborn as sns\n",
    "from statsmodels.tsa.stattools import adfuller"
   ]
  },
  {
   "cell_type": "code",
   "execution_count": 2,
   "id": "107c078a-4bc3-4be0-bdae-662e7823c11b",
   "metadata": {},
   "outputs": [],
   "source": [
    "df  = pd.read_csv(r\"C:\\Users\\hp\\Downloads\\aus.csv\")"
   ]
  },
  {
   "cell_type": "code",
   "execution_count": null,
   "id": "0f36e855-cd97-47d3-bbb0-b2b3ce67382a",
   "metadata": {},
   "outputs": [],
   "source": [
    "df"
   ]
  },
  {
   "cell_type": "code",
   "execution_count": null,
   "id": "7bb91524-9c15-402d-bc40-de2f329144f4",
   "metadata": {},
   "outputs": [],
   "source": [
    "df.head()"
   ]
  },
  {
   "cell_type": "code",
   "execution_count": null,
   "id": "5e24598e-e345-41cc-b185-3ce732fa0e5f",
   "metadata": {},
   "outputs": [],
   "source": [
    "df.y"
   ]
  },
  {
   "cell_type": "code",
   "execution_count": null,
   "id": "970339c6-bbcc-4e97-ad4a-3cb17766c492",
   "metadata": {},
   "outputs": [],
   "source": [
    "adfuller_result = adfuller(df.y.values,autolag='AIC')\n",
    "print(f'ADF Statistic:{adfuller_result[0]}')\n",
    "print(f'p-value:{adfuller_result[1]}')\n",
    "for key,value in adfuller_result[4].items():\n",
    "    print('Critical Values:')\n",
    "    print(f'{key},{value}')"
   ]
  }
 ],
 "metadata": {
  "kernelspec": {
   "display_name": "Python 3 (ipykernel)",
   "language": "python",
   "name": "python3"
  },
  "language_info": {
   "codemirror_mode": {
    "name": "ipython",
    "version": 3
   },
   "file_extension": ".py",
   "mimetype": "text/x-python",
   "name": "python",
   "nbconvert_exporter": "python",
   "pygments_lexer": "ipython3",
   "version": "3.11.7"
  }
 },
 "nbformat": 4,
 "nbformat_minor": 5
}
